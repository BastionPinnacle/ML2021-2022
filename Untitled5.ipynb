{
  "nbformat": 4,
  "nbformat_minor": 0,
  "metadata": {
    "colab": {
      "name": "Untitled5.ipynb",
      "provenance": [],
      "collapsed_sections": [],
      "authorship_tag": "ABX9TyPuGozyksInTPrh3QkvOZ9l",
      "include_colab_link": true
    },
    "kernelspec": {
      "name": "python3",
      "display_name": "Python 3"
    },
    "language_info": {
      "name": "python"
    }
  },
  "cells": [
    {
      "cell_type": "markdown",
      "metadata": {
        "id": "view-in-github",
        "colab_type": "text"
      },
      "source": [
        "<a href=\"https://colab.research.google.com/github/BastionPinnacle/ML2021-2022/blob/main/Untitled5.ipynb\" target=\"_parent\"><img src=\"https://colab.research.google.com/assets/colab-badge.svg\" alt=\"Open In Colab\"/></a>"
      ]
    },
    {
      "cell_type": "code",
      "source": [
        "rm -rf ./logs/\n",
        "\n",
        "%load_ext tensorboard\n",
        "%tensorboard --logdir logs\n"
      ],
      "metadata": {
        "id": "MjtVB8nWISvk"
      },
      "execution_count": null,
      "outputs": []
    },
    {
      "cell_type": "code",
      "execution_count": 20,
      "metadata": {
        "id": "qpG1zky8nzCf"
      },
      "outputs": [],
      "source": [
        "import torch\n",
        "import torch.nn as nn\n",
        "import torch.optim as optim\n",
        "import torchvision\n",
        "import torchvision.datasets as datasets\n",
        "from torch.utils.data import DataLoader\n",
        "import torchvision.transforms as transforms\n",
        "from torch.utils.tensorboard import SummaryWriter"
      ]
    },
    {
      "cell_type": "code",
      "source": [
        "##"
      ],
      "metadata": {
        "id": "5KLVVwb8GGBR"
      },
      "execution_count": null,
      "outputs": []
    },
    {
      "cell_type": "code",
      "source": [
        "class Discriminator(nn.Module):\n",
        "  def __init__(self,in_features):\n",
        "    super().__init__()\n",
        "    self.disc = nn.Sequential(\n",
        "        nn.Linear(in_features,128),\n",
        "        nn.LeakyReLU(0.1),\n",
        "        nn.Linear(128,1),\n",
        "        nn.Sigmoid(),\n",
        "    )\n",
        "  def forward(self,x):\n",
        "    return self.disc(x)\n",
        "\n",
        "class Generator(nn.Module):\n",
        "  def __init__(self,z_dim, img_dim):\n",
        "    super().__init__()\n",
        "    self.gen = nn.Sequential(\n",
        "        nn.Linear(z_dim,256),\n",
        "        nn.LeakyReLU(0.1),\n",
        "        nn.Linear(256,img_dim),\n",
        "        nn.Tanh(),\n",
        "    )\n",
        "\n",
        "  def forward(self,x):\n",
        "    return self.gen(x)\n"
      ],
      "metadata": {
        "id": "dV1YuVb3obk7"
      },
      "execution_count": 21,
      "outputs": []
    },
    {
      "cell_type": "code",
      "source": [
        "#Hyperparameters\n",
        "device = \"cuda\" if torch.cuda.is_available() else \"cpu\"\n",
        "lr=3e-4\n",
        "z_dim = 64 #128,256\n",
        "image_dim  = 28*28*1\n",
        "batch_size = 32\n",
        "num_epochs = 50\n",
        "\n",
        "disc = Discriminator(image_dim).to(device)\n",
        "gen = Generator(z_dim,image_dim).to(device)\n",
        "fixed_noise = torch.randn((batch_size,z_dim)).to(device)\n",
        "transf = transforms.Compose(\n",
        "    [transforms.ToTensor(),transforms.Normalize((0.1307),(0.3081))]\n",
        ")\n",
        "\n",
        "dataset = datasets.FashionMNIST(root=\"/dataset\",transform=transf,download = True)\n",
        "loader = DataLoader(dataset,batch_size = batch_size, shuffle = True)\n",
        "opt_disc = optim.Adam(disc.parameters(),lr=lr)\n",
        "opt_gen = optim.Adam(gen.parameters(), lr= lr)\n",
        "criterion = nn.BCELoss()\n",
        "writer_fake = SummaryWriter(f\"runs/GAN_FASHIONMNIST/fake\")\n",
        "writer_real = SummaryWriter(f\"runs/GAN_FASHIONMNIST/real\")\n",
        "step = 0 \n",
        "\n",
        "#epoch loop\n",
        "for epoch in range(num_epochs):\n",
        "  #batch loop, we dont use \n",
        "  for batch_idx, (real, _) in enumerate(loader):\n",
        "    ##real  will be having batch_size x 784 shape\n",
        "    real = real.view(-1,784).to(device)\n",
        "    batch_size = real.shape[0]\n",
        "\n",
        "    ### Train Discriminator maxlog(D(real)) + log(1-D(G(fake)))\n",
        "    ## generating random noise tensor batchsize x z_dim\n",
        "    noise = torch.randn((batch_size, z_dim)).to(device)\n",
        "    ## fake image generation\n",
        "    fake = gen(noise)\n",
        "    ## new tensor batch_size x 1\n",
        "    disc_real = disc(real).view(-1)\n",
        "    lossD_real = criterion(disc_real,torch.ones_like(disc_real))\n",
        "    \n",
        "    disc_fake = disc(fake.detach()).view(-1)\n",
        "    lossD_fake = criterion(disc_fake, torch.zeros_like(disc_fake))\n",
        "    \n",
        "    lossD =(lossD_real+lossD_fake)/2\n",
        "\n",
        "    disc.zero_grad()  \n",
        "    lossD.backward()\n",
        "    opt_disc.step()\n",
        "\n",
        "    ### Training the generator min log(1-D(G(z)))\n",
        "\n",
        "    output = disc(fake).view(-1)\n",
        "    lossG = criterion(output, torch.ones_like(output))\n",
        "    gen.zero_grad()\n",
        "    lossG.backward()\n",
        "    opt_gen.step()\n",
        "\n",
        "\n",
        "    if batch_idx == 0:\n",
        "            print(\n",
        "                f\"Epoch [{epoch}/{num_epochs}] Batch {batch_idx}/{len(loader)} \\\n",
        "                      Loss D: {lossD:.4f}, loss G: {lossG:.4f}\"\n",
        "            )\n",
        "\n",
        "            with torch.no_grad():\n",
        "                fake = gen(fixed_noise).reshape(-1, 1, 28, 28)\n",
        "                data = real.reshape(-1, 1, 28, 28)\n",
        "                img_grid_fake = torchvision.utils.make_grid(fake, normalize=True)\n",
        "                img_grid_real = torchvision.utils.make_grid(data, normalize=True)\n",
        "\n",
        "                writer_fake.add_image(\n",
        "                    \"Mnist Fake Images\", img_grid_fake, global_step=step\n",
        "                )\n",
        "                writer_real.add_image(\n",
        "                    \"Mnist Real Images\", img_grid_real, global_step=step\n",
        "                )\n",
        "                step += 1\n",
        "\n",
        "\n"
      ],
      "metadata": {
        "colab": {
          "base_uri": "https://localhost:8080/"
        },
        "id": "kyRI_RV8p7oU",
        "outputId": "5fecddab-7f3a-4a4c-eb8c-15cff4545aa5"
      },
      "execution_count": null,
      "outputs": [
        {
          "output_type": "stream",
          "name": "stdout",
          "text": [
            "Epoch [0/50] Batch 0/1875                       Loss D: 0.6635, loss G: 0.7238\n",
            "Epoch [1/50] Batch 0/1875                       Loss D: 0.2156, loss G: 2.2438\n",
            "Epoch [2/50] Batch 0/1875                       Loss D: 0.1515, loss G: 2.6734\n",
            "Epoch [3/50] Batch 0/1875                       Loss D: 0.2092, loss G: 2.8646\n",
            "Epoch [4/50] Batch 0/1875                       Loss D: 0.1872, loss G: 3.2189\n",
            "Epoch [5/50] Batch 0/1875                       Loss D: 0.2222, loss G: 2.9852\n",
            "Epoch [6/50] Batch 0/1875                       Loss D: 0.1313, loss G: 2.7722\n",
            "Epoch [7/50] Batch 0/1875                       Loss D: 0.1615, loss G: 2.9400\n",
            "Epoch [8/50] Batch 0/1875                       Loss D: 0.1613, loss G: 3.6975\n",
            "Epoch [9/50] Batch 0/1875                       Loss D: 0.0737, loss G: 3.5662\n",
            "Epoch [10/50] Batch 0/1875                       Loss D: 0.1015, loss G: 2.8649\n",
            "Epoch [11/50] Batch 0/1875                       Loss D: 0.1004, loss G: 3.1372\n",
            "Epoch [12/50] Batch 0/1875                       Loss D: 0.0996, loss G: 3.1784\n"
          ]
        }
      ]
    }
  ]
}